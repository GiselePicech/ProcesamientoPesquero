{
 "cells": [
  {
   "cell_type": "code",
   "execution_count": 1,
   "id": "b2aae3e2",
   "metadata": {
    "scrolled": true
   },
   "outputs": [],
   "source": [
    "import os\n",
    "import pandas as pd\n",
    "import matplotlib.pyplot as plt"
   ]
  },
  {
   "cell_type": "code",
   "execution_count": 2,
   "id": "90cc66bd",
   "metadata": {},
   "outputs": [],
   "source": [
    "#Ingesta de datos\n",
    "pesca = pd.read_excel (\"maestro_produccion22.xlsx\",sheet_name=\"Limpio\")"
   ]
  },
  {
   "cell_type": "code",
   "execution_count": 3,
   "id": "01e9dc3c",
   "metadata": {
    "scrolled": false
   },
   "outputs": [
    {
     "data": {
      "text/html": [
       "<div>\n",
       "<style scoped>\n",
       "    .dataframe tbody tr th:only-of-type {\n",
       "        vertical-align: middle;\n",
       "    }\n",
       "\n",
       "    .dataframe tbody tr th {\n",
       "        vertical-align: top;\n",
       "    }\n",
       "\n",
       "    .dataframe thead th {\n",
       "        text-align: right;\n",
       "    }\n",
       "</style>\n",
       "<table border=\"1\" class=\"dataframe\">\n",
       "  <thead>\n",
       "    <tr style=\"text-align: right;\">\n",
       "      <th></th>\n",
       "      <th>Fecha</th>\n",
       "      <th>RInt</th>\n",
       "      <th>Dueño2</th>\n",
       "      <th>Materia Prima</th>\n",
       "      <th>Cj</th>\n",
       "      <th>P-C</th>\n",
       "      <th>KgBr</th>\n",
       "      <th>Desp</th>\n",
       "      <th>KgN</th>\n",
       "      <th>ProductoTerminado</th>\n",
       "      <th>IAC</th>\n",
       "      <th>KGT</th>\n",
       "      <th>Rinde</th>\n",
       "    </tr>\n",
       "  </thead>\n",
       "  <tbody>\n",
       "    <tr>\n",
       "      <th>0</th>\n",
       "      <td>2022-07-22</td>\n",
       "      <td>5504</td>\n",
       "      <td>17</td>\n",
       "      <td>Almeja entera fresca</td>\n",
       "      <td>41</td>\n",
       "      <td>46.8</td>\n",
       "      <td>1918.8</td>\n",
       "      <td>0.0</td>\n",
       "      <td>1918.8</td>\n",
       "      <td>Almeja 1/2 valva IQF</td>\n",
       "      <td>1432</td>\n",
       "      <td>842.0</td>\n",
       "      <td>0.438816</td>\n",
       "    </tr>\n",
       "    <tr>\n",
       "      <th>1</th>\n",
       "      <td>2022-08-12</td>\n",
       "      <td>5549</td>\n",
       "      <td>10</td>\n",
       "      <td>Almeja entera fresca</td>\n",
       "      <td>53</td>\n",
       "      <td>48.8</td>\n",
       "      <td>2586.4</td>\n",
       "      <td>0.0</td>\n",
       "      <td>2586.4</td>\n",
       "      <td>Almeja 1/2 valva IQF</td>\n",
       "      <td>1438</td>\n",
       "      <td>216.0</td>\n",
       "      <td>0.083514</td>\n",
       "    </tr>\n",
       "    <tr>\n",
       "      <th>2</th>\n",
       "      <td>2022-05-01</td>\n",
       "      <td>5331</td>\n",
       "      <td>6</td>\n",
       "      <td>Almeja entera fresca</td>\n",
       "      <td>10</td>\n",
       "      <td>45.0</td>\n",
       "      <td>450.0</td>\n",
       "      <td>0.0</td>\n",
       "      <td>450.0</td>\n",
       "      <td>Almeja entera fresca</td>\n",
       "      <td>1</td>\n",
       "      <td>450.0</td>\n",
       "      <td>1.000000</td>\n",
       "    </tr>\n",
       "    <tr>\n",
       "      <th>3</th>\n",
       "      <td>2022-03-28</td>\n",
       "      <td>5240</td>\n",
       "      <td>14</td>\n",
       "      <td>Almeja entera fresca</td>\n",
       "      <td>4</td>\n",
       "      <td>40.0</td>\n",
       "      <td>160.0</td>\n",
       "      <td>0.0</td>\n",
       "      <td>160.0</td>\n",
       "      <td>Almeja entera fresca</td>\n",
       "      <td>1</td>\n",
       "      <td>160.0</td>\n",
       "      <td>1.000000</td>\n",
       "    </tr>\n",
       "    <tr>\n",
       "      <th>4</th>\n",
       "      <td>2022-04-07</td>\n",
       "      <td>5262</td>\n",
       "      <td>11</td>\n",
       "      <td>Almeja entera fresca</td>\n",
       "      <td>7</td>\n",
       "      <td>40.0</td>\n",
       "      <td>280.0</td>\n",
       "      <td>0.0</td>\n",
       "      <td>280.0</td>\n",
       "      <td>Almeja entera fresca</td>\n",
       "      <td>1</td>\n",
       "      <td>280.0</td>\n",
       "      <td>1.000000</td>\n",
       "    </tr>\n",
       "  </tbody>\n",
       "</table>\n",
       "</div>"
      ],
      "text/plain": [
       "      Fecha   RInt  Dueño2        Materia Prima   Cj   P-C    KgBr  Desp  \\\n",
       "0 2022-07-22  5504      17  Almeja entera fresca  41  46.8  1918.8   0.0   \n",
       "1 2022-08-12  5549      10  Almeja entera fresca  53  48.8  2586.4   0.0   \n",
       "2 2022-05-01  5331       6  Almeja entera fresca  10  45.0   450.0   0.0   \n",
       "3 2022-03-28  5240      14  Almeja entera fresca   4  40.0   160.0   0.0   \n",
       "4 2022-04-07  5262      11  Almeja entera fresca   7  40.0   280.0   0.0   \n",
       "\n",
       "      KgN    ProductoTerminado    IAC    KGT     Rinde  \n",
       "0  1918.8  Almeja 1/2 valva IQF  1432  842.0  0.438816  \n",
       "1  2586.4  Almeja 1/2 valva IQF  1438  216.0  0.083514  \n",
       "2   450.0  Almeja entera fresca     1  450.0  1.000000  \n",
       "3   160.0  Almeja entera fresca     1  160.0  1.000000  \n",
       "4   280.0  Almeja entera fresca     1  280.0  1.000000  "
      ]
     },
     "execution_count": 3,
     "metadata": {},
     "output_type": "execute_result"
    }
   ],
   "source": [
    "#Muestra de datos\n",
    "pesca.head()"
   ]
  },
  {
   "cell_type": "code",
   "execution_count": 4,
   "id": "02889347",
   "metadata": {},
   "outputs": [
    {
     "data": {
      "text/plain": [
       "Fecha                 datetime64[ns]\n",
       "RInt                           int64\n",
       "Dueño2                         int64\n",
       "Materia Prima                 object\n",
       "Cj                             int64\n",
       "P-C                          float64\n",
       "KgBr                         float64\n",
       "Desp                         float64\n",
       "KgN                          float64\n",
       "ProductoTerminado             object\n",
       "IAC                            int64\n",
       "KGT                          float64\n",
       "Rinde                        float64\n",
       "dtype: object"
      ]
     },
     "execution_count": 4,
     "metadata": {},
     "output_type": "execute_result"
    }
   ],
   "source": [
    "#Tipos de datos\n",
    "pesca.dtypes"
   ]
  },
  {
   "cell_type": "code",
   "execution_count": 5,
   "id": "3e6e6769",
   "metadata": {},
   "outputs": [
    {
     "data": {
      "text/plain": [
       "(781, 13)"
      ]
     },
     "execution_count": 5,
     "metadata": {},
     "output_type": "execute_result"
    }
   ],
   "source": [
    "#Cantidad de registros y columnas\n",
    "pesca.shape"
   ]
  },
  {
   "cell_type": "code",
   "execution_count": 6,
   "id": "0dd7d36f",
   "metadata": {},
   "outputs": [
    {
     "data": {
      "text/html": [
       "<div>\n",
       "<style scoped>\n",
       "    .dataframe tbody tr th:only-of-type {\n",
       "        vertical-align: middle;\n",
       "    }\n",
       "\n",
       "    .dataframe tbody tr th {\n",
       "        vertical-align: top;\n",
       "    }\n",
       "\n",
       "    .dataframe thead th {\n",
       "        text-align: right;\n",
       "    }\n",
       "</style>\n",
       "<table border=\"1\" class=\"dataframe\">\n",
       "  <thead>\n",
       "    <tr style=\"text-align: right;\">\n",
       "      <th></th>\n",
       "      <th>RInt</th>\n",
       "      <th>Dueño2</th>\n",
       "      <th>Cj</th>\n",
       "      <th>P-C</th>\n",
       "      <th>KgBr</th>\n",
       "      <th>Desp</th>\n",
       "      <th>KgN</th>\n",
       "      <th>IAC</th>\n",
       "      <th>KGT</th>\n",
       "      <th>Rinde</th>\n",
       "    </tr>\n",
       "  </thead>\n",
       "  <tbody>\n",
       "    <tr>\n",
       "      <th>count</th>\n",
       "      <td>781.000000</td>\n",
       "      <td>781.000000</td>\n",
       "      <td>781.000000</td>\n",
       "      <td>781.000000</td>\n",
       "      <td>781.000000</td>\n",
       "      <td>781.000000</td>\n",
       "      <td>781.000000</td>\n",
       "      <td>781.000000</td>\n",
       "      <td>781.000000</td>\n",
       "      <td>781.000000</td>\n",
       "    </tr>\n",
       "    <tr>\n",
       "      <th>mean</th>\n",
       "      <td>5308.085787</td>\n",
       "      <td>12.631242</td>\n",
       "      <td>106.848912</td>\n",
       "      <td>27.404942</td>\n",
       "      <td>2562.297350</td>\n",
       "      <td>0.066782</td>\n",
       "      <td>2437.400824</td>\n",
       "      <td>1295.545455</td>\n",
       "      <td>815.312949</td>\n",
       "      <td>0.444750</td>\n",
       "    </tr>\n",
       "    <tr>\n",
       "      <th>std</th>\n",
       "      <td>246.539853</td>\n",
       "      <td>4.730669</td>\n",
       "      <td>120.437515</td>\n",
       "      <td>9.707575</td>\n",
       "      <td>2840.566102</td>\n",
       "      <td>0.107622</td>\n",
       "      <td>2859.356470</td>\n",
       "      <td>374.521256</td>\n",
       "      <td>1089.970581</td>\n",
       "      <td>0.321901</td>\n",
       "    </tr>\n",
       "    <tr>\n",
       "      <th>min</th>\n",
       "      <td>1.000000</td>\n",
       "      <td>1.000000</td>\n",
       "      <td>1.000000</td>\n",
       "      <td>5.610000</td>\n",
       "      <td>7.500000</td>\n",
       "      <td>0.000000</td>\n",
       "      <td>7.500000</td>\n",
       "      <td>1.000000</td>\n",
       "      <td>5.700000</td>\n",
       "      <td>0.009731</td>\n",
       "    </tr>\n",
       "    <tr>\n",
       "      <th>25%</th>\n",
       "      <td>5179.000000</td>\n",
       "      <td>10.000000</td>\n",
       "      <td>30.000000</td>\n",
       "      <td>18.360000</td>\n",
       "      <td>874.800000</td>\n",
       "      <td>0.000000</td>\n",
       "      <td>768.000000</td>\n",
       "      <td>1380.000000</td>\n",
       "      <td>222.000000</td>\n",
       "      <td>0.170200</td>\n",
       "    </tr>\n",
       "    <tr>\n",
       "      <th>50%</th>\n",
       "      <td>5293.000000</td>\n",
       "      <td>10.000000</td>\n",
       "      <td>59.000000</td>\n",
       "      <td>28.100000</td>\n",
       "      <td>1836.900000</td>\n",
       "      <td>0.000000</td>\n",
       "      <td>1600.000000</td>\n",
       "      <td>1401.000000</td>\n",
       "      <td>516.000000</td>\n",
       "      <td>0.380618</td>\n",
       "    </tr>\n",
       "    <tr>\n",
       "      <th>75%</th>\n",
       "      <td>5448.000000</td>\n",
       "      <td>17.000000</td>\n",
       "      <td>142.000000</td>\n",
       "      <td>35.300000</td>\n",
       "      <td>3104.200000</td>\n",
       "      <td>0.134000</td>\n",
       "      <td>2916.800000</td>\n",
       "      <td>1422.000000</td>\n",
       "      <td>948.000000</td>\n",
       "      <td>0.546265</td>\n",
       "    </tr>\n",
       "    <tr>\n",
       "      <th>max</th>\n",
       "      <td>5608.000000</td>\n",
       "      <td>24.000000</td>\n",
       "      <td>730.000000</td>\n",
       "      <td>51.500000</td>\n",
       "      <td>20776.000000</td>\n",
       "      <td>0.680000</td>\n",
       "      <td>20776.000000</td>\n",
       "      <td>1445.000000</td>\n",
       "      <td>12618.000000</td>\n",
       "      <td>1.259091</td>\n",
       "    </tr>\n",
       "  </tbody>\n",
       "</table>\n",
       "</div>"
      ],
      "text/plain": [
       "              RInt      Dueño2          Cj         P-C          KgBr  \\\n",
       "count   781.000000  781.000000  781.000000  781.000000    781.000000   \n",
       "mean   5308.085787   12.631242  106.848912   27.404942   2562.297350   \n",
       "std     246.539853    4.730669  120.437515    9.707575   2840.566102   \n",
       "min       1.000000    1.000000    1.000000    5.610000      7.500000   \n",
       "25%    5179.000000   10.000000   30.000000   18.360000    874.800000   \n",
       "50%    5293.000000   10.000000   59.000000   28.100000   1836.900000   \n",
       "75%    5448.000000   17.000000  142.000000   35.300000   3104.200000   \n",
       "max    5608.000000   24.000000  730.000000   51.500000  20776.000000   \n",
       "\n",
       "             Desp           KgN          IAC           KGT       Rinde  \n",
       "count  781.000000    781.000000   781.000000    781.000000  781.000000  \n",
       "mean     0.066782   2437.400824  1295.545455    815.312949    0.444750  \n",
       "std      0.107622   2859.356470   374.521256   1089.970581    0.321901  \n",
       "min      0.000000      7.500000     1.000000      5.700000    0.009731  \n",
       "25%      0.000000    768.000000  1380.000000    222.000000    0.170200  \n",
       "50%      0.000000   1600.000000  1401.000000    516.000000    0.380618  \n",
       "75%      0.134000   2916.800000  1422.000000    948.000000    0.546265  \n",
       "max      0.680000  20776.000000  1445.000000  12618.000000    1.259091  "
      ]
     },
     "execution_count": 6,
     "metadata": {},
     "output_type": "execute_result"
    }
   ],
   "source": [
    "#Medidas generales\n",
    "pesca.describe()"
   ]
  },
  {
   "cell_type": "code",
   "execution_count": 54,
   "id": "a58e6fd5",
   "metadata": {},
   "outputs": [
    {
     "data": {
      "text/plain": [
       "Fecha                 0\n",
       "RInt                  0\n",
       "Dueño2                0\n",
       "Materia Prima         0\n",
       "Cj                    0\n",
       "P-C                   0\n",
       "KgBr                  0\n",
       "Desp                  0\n",
       "KgN                   0\n",
       "ProductoTerminado     0\n",
       "IAC                   0\n",
       "KGT                   0\n",
       "Rinde                 0\n",
       "dtype: int64"
      ]
     },
     "execution_count": 54,
     "metadata": {},
     "output_type": "execute_result"
    }
   ],
   "source": [
    "#Control de valores nulos\n",
    "pesca.isna().sum()"
   ]
  },
  {
   "cell_type": "code",
   "execution_count": 55,
   "id": "7fb08bff",
   "metadata": {
    "scrolled": true
   },
   "outputs": [
    {
     "data": {
      "text/plain": [
       "Fecha                 164\n",
       "RInt                  536\n",
       "Dueño2                 24\n",
       "Materia Prima          36\n",
       "Cj                    189\n",
       "P-C                   308\n",
       "KgBr                  585\n",
       "Desp                  129\n",
       "KgN                   610\n",
       "ProductoTerminado      73\n",
       "IAC                    95\n",
       "KGT                   367\n",
       "Rinde                 691\n",
       "dtype: int64"
      ]
     },
     "execution_count": 55,
     "metadata": {},
     "output_type": "execute_result"
    }
   ],
   "source": [
    "#Cantidad de valores unicos por rango\n",
    "pesca.nunique()"
   ]
  },
  {
   "cell_type": "code",
   "execution_count": 81,
   "id": "a2b62287",
   "metadata": {},
   "outputs": [
    {
     "data": {
      "text/html": [
       "<div>\n",
       "<style scoped>\n",
       "    .dataframe tbody tr th:only-of-type {\n",
       "        vertical-align: middle;\n",
       "    }\n",
       "\n",
       "    .dataframe tbody tr th {\n",
       "        vertical-align: top;\n",
       "    }\n",
       "\n",
       "    .dataframe thead th {\n",
       "        text-align: right;\n",
       "    }\n",
       "</style>\n",
       "<table border=\"1\" class=\"dataframe\">\n",
       "  <thead>\n",
       "    <tr style=\"text-align: right;\">\n",
       "      <th></th>\n",
       "      <th>RInt</th>\n",
       "      <th>Dueño2</th>\n",
       "      <th>Cj</th>\n",
       "      <th>P-C</th>\n",
       "      <th>KgBr</th>\n",
       "      <th>Desp</th>\n",
       "      <th>KgN</th>\n",
       "      <th>IAC</th>\n",
       "      <th>KGT</th>\n",
       "      <th>Rinde</th>\n",
       "    </tr>\n",
       "  </thead>\n",
       "  <tbody>\n",
       "    <tr>\n",
       "      <th>RInt</th>\n",
       "      <td>1.000000</td>\n",
       "      <td>0.018414</td>\n",
       "      <td>-0.211094</td>\n",
       "      <td>0.438434</td>\n",
       "      <td>-0.059309</td>\n",
       "      <td>0.299859</td>\n",
       "      <td>-0.080323</td>\n",
       "      <td>0.139213</td>\n",
       "      <td>-0.075762</td>\n",
       "      <td>-0.130092</td>\n",
       "    </tr>\n",
       "    <tr>\n",
       "      <th>Dueño2</th>\n",
       "      <td>0.018414</td>\n",
       "      <td>1.000000</td>\n",
       "      <td>0.024735</td>\n",
       "      <td>-0.051706</td>\n",
       "      <td>-0.045497</td>\n",
       "      <td>-0.023794</td>\n",
       "      <td>-0.049060</td>\n",
       "      <td>-0.013487</td>\n",
       "      <td>-0.060976</td>\n",
       "      <td>-0.140708</td>\n",
       "    </tr>\n",
       "    <tr>\n",
       "      <th>Cj</th>\n",
       "      <td>-0.211094</td>\n",
       "      <td>0.024735</td>\n",
       "      <td>1.000000</td>\n",
       "      <td>-0.313354</td>\n",
       "      <td>0.906596</td>\n",
       "      <td>-0.276359</td>\n",
       "      <td>0.915566</td>\n",
       "      <td>0.150722</td>\n",
       "      <td>0.654751</td>\n",
       "      <td>-0.279968</td>\n",
       "    </tr>\n",
       "    <tr>\n",
       "      <th>P-C</th>\n",
       "      <td>0.438434</td>\n",
       "      <td>-0.051706</td>\n",
       "      <td>-0.313354</td>\n",
       "      <td>1.000000</td>\n",
       "      <td>-0.029251</td>\n",
       "      <td>0.457593</td>\n",
       "      <td>-0.065101</td>\n",
       "      <td>0.013562</td>\n",
       "      <td>-0.117450</td>\n",
       "      <td>-0.251681</td>\n",
       "    </tr>\n",
       "    <tr>\n",
       "      <th>KgBr</th>\n",
       "      <td>-0.059309</td>\n",
       "      <td>-0.045497</td>\n",
       "      <td>0.906596</td>\n",
       "      <td>-0.029251</td>\n",
       "      <td>1.000000</td>\n",
       "      <td>-0.151377</td>\n",
       "      <td>0.996889</td>\n",
       "      <td>0.154132</td>\n",
       "      <td>0.657878</td>\n",
       "      <td>-0.312078</td>\n",
       "    </tr>\n",
       "    <tr>\n",
       "      <th>Desp</th>\n",
       "      <td>0.299859</td>\n",
       "      <td>-0.023794</td>\n",
       "      <td>-0.276359</td>\n",
       "      <td>0.457593</td>\n",
       "      <td>-0.151377</td>\n",
       "      <td>1.000000</td>\n",
       "      <td>-0.218720</td>\n",
       "      <td>0.201089</td>\n",
       "      <td>-0.203471</td>\n",
       "      <td>-0.283852</td>\n",
       "    </tr>\n",
       "    <tr>\n",
       "      <th>KgN</th>\n",
       "      <td>-0.080323</td>\n",
       "      <td>-0.049060</td>\n",
       "      <td>0.915566</td>\n",
       "      <td>-0.065101</td>\n",
       "      <td>0.996889</td>\n",
       "      <td>-0.218720</td>\n",
       "      <td>1.000000</td>\n",
       "      <td>0.139917</td>\n",
       "      <td>0.661941</td>\n",
       "      <td>-0.292325</td>\n",
       "    </tr>\n",
       "    <tr>\n",
       "      <th>IAC</th>\n",
       "      <td>0.139213</td>\n",
       "      <td>-0.013487</td>\n",
       "      <td>0.150722</td>\n",
       "      <td>0.013562</td>\n",
       "      <td>0.154132</td>\n",
       "      <td>0.201089</td>\n",
       "      <td>0.139917</td>\n",
       "      <td>1.000000</td>\n",
       "      <td>-0.032552</td>\n",
       "      <td>-0.489875</td>\n",
       "    </tr>\n",
       "    <tr>\n",
       "      <th>KGT</th>\n",
       "      <td>-0.075762</td>\n",
       "      <td>-0.060976</td>\n",
       "      <td>0.654751</td>\n",
       "      <td>-0.117450</td>\n",
       "      <td>0.657878</td>\n",
       "      <td>-0.203471</td>\n",
       "      <td>0.661941</td>\n",
       "      <td>-0.032552</td>\n",
       "      <td>1.000000</td>\n",
       "      <td>0.169086</td>\n",
       "    </tr>\n",
       "    <tr>\n",
       "      <th>Rinde</th>\n",
       "      <td>-0.130092</td>\n",
       "      <td>-0.140708</td>\n",
       "      <td>-0.279968</td>\n",
       "      <td>-0.251681</td>\n",
       "      <td>-0.312078</td>\n",
       "      <td>-0.283852</td>\n",
       "      <td>-0.292325</td>\n",
       "      <td>-0.489875</td>\n",
       "      <td>0.169086</td>\n",
       "      <td>1.000000</td>\n",
       "    </tr>\n",
       "  </tbody>\n",
       "</table>\n",
       "</div>"
      ],
      "text/plain": [
       "            RInt    Dueño2        Cj       P-C      KgBr      Desp       KgN  \\\n",
       "RInt    1.000000  0.018414 -0.211094  0.438434 -0.059309  0.299859 -0.080323   \n",
       "Dueño2  0.018414  1.000000  0.024735 -0.051706 -0.045497 -0.023794 -0.049060   \n",
       "Cj     -0.211094  0.024735  1.000000 -0.313354  0.906596 -0.276359  0.915566   \n",
       "P-C     0.438434 -0.051706 -0.313354  1.000000 -0.029251  0.457593 -0.065101   \n",
       "KgBr   -0.059309 -0.045497  0.906596 -0.029251  1.000000 -0.151377  0.996889   \n",
       "Desp    0.299859 -0.023794 -0.276359  0.457593 -0.151377  1.000000 -0.218720   \n",
       "KgN    -0.080323 -0.049060  0.915566 -0.065101  0.996889 -0.218720  1.000000   \n",
       "IAC     0.139213 -0.013487  0.150722  0.013562  0.154132  0.201089  0.139917   \n",
       "KGT    -0.075762 -0.060976  0.654751 -0.117450  0.657878 -0.203471  0.661941   \n",
       "Rinde  -0.130092 -0.140708 -0.279968 -0.251681 -0.312078 -0.283852 -0.292325   \n",
       "\n",
       "             IAC       KGT     Rinde  \n",
       "RInt    0.139213 -0.075762 -0.130092  \n",
       "Dueño2 -0.013487 -0.060976 -0.140708  \n",
       "Cj      0.150722  0.654751 -0.279968  \n",
       "P-C     0.013562 -0.117450 -0.251681  \n",
       "KgBr    0.154132  0.657878 -0.312078  \n",
       "Desp    0.201089 -0.203471 -0.283852  \n",
       "KgN     0.139917  0.661941 -0.292325  \n",
       "IAC     1.000000 -0.032552 -0.489875  \n",
       "KGT    -0.032552  1.000000  0.169086  \n",
       "Rinde  -0.489875  0.169086  1.000000  "
      ]
     },
     "execution_count": 81,
     "metadata": {},
     "output_type": "execute_result"
    }
   ],
   "source": [
    "#Matriz de correlacion - Metodo Pearson\n",
    "pesca_df2=pd.DataFrame(pesca)\n",
    "pesca_df2.corr(method = 'pearson')"
   ]
  },
  {
   "cell_type": "code",
   "execution_count": 56,
   "id": "7749e297",
   "metadata": {
    "scrolled": true
   },
   "outputs": [
    {
     "data": {
      "image/png": "[encoded data removed]",
      "text/plain": [
       "<Figure size 432x288 with 2 Axes>"
      ]
     },
     "metadata": {
      "needs_background": "light"
     },
     "output_type": "display_data"
    }
   ],
   "source": [
    "#Matriz de correlacion - Metodo Pearson VISUALIZACION\n",
    "import seaborn as sns\n",
    "sns.heatmap(pesca.corr(), annot=True, cmap=\"YlGnBu\")\n",
    "plt.show()"
   ]
  },
  {
   "cell_type": "code",
   "execution_count": 98,
   "id": "87a7cadc",
   "metadata": {},
   "outputs": [
    {
     "data": {
      "image/png": "[encoded data removed]",
      "text/plain": [
       "<Figure size 432x288 with 1 Axes>"
      ]
     },
     "metadata": {
      "needs_background": "light"
     },
     "output_type": "display_data"
    }
   ],
   "source": [
    "#Grafico de puntos - Cantidad de cajones vs. Kg Netos\n",
    "plt.scatter(pesca.Cj ,pesca.KgN, marker=\".\",facecolor='gray')\n",
    "plt.show()"
   ]
  },
  {
   "cell_type": "code",
   "execution_count": 99,
   "id": "c4c55e7f",
   "metadata": {},
   "outputs": [
    {
     "data": {
      "image/png": "[encoded data removed]",
      "text/plain": [
       "<Figure size 432x288 with 1 Axes>"
      ]
     },
     "metadata": {
      "needs_background": "light"
     },
     "output_type": "display_data"
    }
   ],
   "source": [
    "#Grafico de puntos - KG Brutos vs. Cantidad de Cajones\n",
    "plt.scatter(pesca.KgBr ,pesca.Cj, marker=\".\",facecolor='gray')\n",
    "plt.show()"
   ]
  },
  {
   "cell_type": "code",
   "execution_count": 100,
   "id": "370c24f8",
   "metadata": {},
   "outputs": [
    {
     "data": {
      "image/png": "[encoded data removed]",
      "text/plain": [
       "<Figure size 432x288 with 1 Axes>"
      ]
     },
     "metadata": {
      "needs_background": "light"
     },
     "output_type": "display_data"
    }
   ],
   "source": [
    "#Grafico de puntos - KG Terminados vs. Kg Netos\n",
    "plt.scatter(pesca.KGT,pesca.KgN, marker=\".\",facecolor='gray')\n",
    "plt.show()"
   ]
  },
  {
   "cell_type": "code",
   "execution_count": 103,
   "id": "97f09105",
   "metadata": {
    "scrolled": true
   },
   "outputs": [
    {
     "data": {
      "text/html": [
       "<div>\n",
       "<style scoped>\n",
       "    .dataframe tbody tr th:only-of-type {\n",
       "        vertical-align: middle;\n",
       "    }\n",
       "\n",
       "    .dataframe tbody tr th {\n",
       "        vertical-align: top;\n",
       "    }\n",
       "\n",
       "    .dataframe thead th {\n",
       "        text-align: right;\n",
       "    }\n",
       "</style>\n",
       "<table border=\"1\" class=\"dataframe\">\n",
       "  <thead>\n",
       "    <tr style=\"text-align: right;\">\n",
       "      <th></th>\n",
       "      <th>Rinde</th>\n",
       "    </tr>\n",
       "    <tr>\n",
       "      <th>Dueño2</th>\n",
       "      <th></th>\n",
       "    </tr>\n",
       "  </thead>\n",
       "  <tbody>\n",
       "    <tr>\n",
       "      <th>10</th>\n",
       "      <td>125.718258</td>\n",
       "    </tr>\n",
       "    <tr>\n",
       "      <th>19</th>\n",
       "      <td>43.766865</td>\n",
       "    </tr>\n",
       "    <tr>\n",
       "      <th>16</th>\n",
       "      <td>25.187868</td>\n",
       "    </tr>\n",
       "    <tr>\n",
       "      <th>9</th>\n",
       "      <td>24.712790</td>\n",
       "    </tr>\n",
       "    <tr>\n",
       "      <th>5</th>\n",
       "      <td>23.073053</td>\n",
       "    </tr>\n",
       "    <tr>\n",
       "      <th>6</th>\n",
       "      <td>20.728185</td>\n",
       "    </tr>\n",
       "    <tr>\n",
       "      <th>18</th>\n",
       "      <td>20.508533</td>\n",
       "    </tr>\n",
       "    <tr>\n",
       "      <th>17</th>\n",
       "      <td>18.023023</td>\n",
       "    </tr>\n",
       "    <tr>\n",
       "      <th>8</th>\n",
       "      <td>11.742827</td>\n",
       "    </tr>\n",
       "    <tr>\n",
       "      <th>23</th>\n",
       "      <td>4.894900</td>\n",
       "    </tr>\n",
       "    <tr>\n",
       "      <th>15</th>\n",
       "      <td>4.439784</td>\n",
       "    </tr>\n",
       "    <tr>\n",
       "      <th>14</th>\n",
       "      <td>4.287057</td>\n",
       "    </tr>\n",
       "    <tr>\n",
       "      <th>13</th>\n",
       "      <td>4.000000</td>\n",
       "    </tr>\n",
       "    <tr>\n",
       "      <th>21</th>\n",
       "      <td>2.159390</td>\n",
       "    </tr>\n",
       "    <tr>\n",
       "      <th>11</th>\n",
       "      <td>2.000000</td>\n",
       "    </tr>\n",
       "    <tr>\n",
       "      <th>12</th>\n",
       "      <td>2.000000</td>\n",
       "    </tr>\n",
       "    <tr>\n",
       "      <th>20</th>\n",
       "      <td>2.000000</td>\n",
       "    </tr>\n",
       "    <tr>\n",
       "      <th>3</th>\n",
       "      <td>1.999205</td>\n",
       "    </tr>\n",
       "    <tr>\n",
       "      <th>2</th>\n",
       "      <td>1.399321</td>\n",
       "    </tr>\n",
       "    <tr>\n",
       "      <th>24</th>\n",
       "      <td>1.360031</td>\n",
       "    </tr>\n",
       "    <tr>\n",
       "      <th>4</th>\n",
       "      <td>1.000000</td>\n",
       "    </tr>\n",
       "    <tr>\n",
       "      <th>22</th>\n",
       "      <td>0.999616</td>\n",
       "    </tr>\n",
       "    <tr>\n",
       "      <th>7</th>\n",
       "      <td>0.934072</td>\n",
       "    </tr>\n",
       "    <tr>\n",
       "      <th>1</th>\n",
       "      <td>0.414618</td>\n",
       "    </tr>\n",
       "  </tbody>\n",
       "</table>\n",
       "</div>"
      ],
      "text/plain": [
       "             Rinde\n",
       "Dueño2            \n",
       "10      125.718258\n",
       "19       43.766865\n",
       "16       25.187868\n",
       "9        24.712790\n",
       "5        23.073053\n",
       "6        20.728185\n",
       "18       20.508533\n",
       "17       18.023023\n",
       "8        11.742827\n",
       "23        4.894900\n",
       "15        4.439784\n",
       "14        4.287057\n",
       "13        4.000000\n",
       "21        2.159390\n",
       "11        2.000000\n",
       "12        2.000000\n",
       "20        2.000000\n",
       "3         1.999205\n",
       "2         1.399321\n",
       "24        1.360031\n",
       "4         1.000000\n",
       "22        0.999616\n",
       "7         0.934072\n",
       "1         0.414618"
      ]
     },
     "execution_count": 103,
     "metadata": {},
     "output_type": "execute_result"
    }
   ],
   "source": [
    "#Suma de Rinde por Dueno\n",
    "pesca[['Dueño2','Rinde']].groupby('Dueño2').sum().sort_values('Rinde', ascending=False)"
   ]
  },
  {
   "cell_type": "code",
   "execution_count": 63,
   "id": "755bc4c1",
   "metadata": {},
   "outputs": [
    {
     "data": {
      "image/png": "[encoded data removed]",
      "text/plain": [
       "<Figure size 432x288 with 2 Axes>"
      ]
     },
     "metadata": {
      "needs_background": "light"
     },
     "output_type": "display_data"
    }
   ],
   "source": [
    "#Grafico de hexagonos - KG Brutos vs. Kg Netos\n",
    "pesca.plot.hexbin(x='KgBr', y='KgN', gridsize=10,cmap=\"gist_yarg\")\n",
    "plt.show()"
   ]
  },
  {
   "cell_type": "code",
   "execution_count": 65,
   "id": "98db712d",
   "metadata": {},
   "outputs": [
    {
     "data": {
      "image/png": "[encoded data removed]",
      "text/plain": [
       "<Figure size 432x288 with 1 Axes>"
      ]
     },
     "metadata": {
      "needs_background": "light"
     },
     "output_type": "display_data"
    }
   ],
   "source": [
    "#Grafico de Autocorrelacion - Desperdicio\n",
    "from pandas.plotting import autocorrelation_plot\n",
    "autocorrelation_plot(pesca.Desp)\n",
    "plt.show()"
   ]
  },
  {
   "cell_type": "code",
   "execution_count": 78,
   "id": "b1fafb06",
   "metadata": {},
   "outputs": [
    {
     "data": {
      "image/png": "[encoded data removed]",
      "text/plain": [
       "<Figure size 432x288 with 1 Axes>"
      ]
     },
     "metadata": {
      "needs_background": "light"
     },
     "output_type": "display_data"
    }
   ],
   "source": [
    "#Grafico de puntos - Duenos vs. Rinde\n",
    "df = pd.DataFrame(pesca,columns=['Dueño2','Rinde'])\n",
    "plt.scatter(df['Dueño2'], df['Rinde'], color='grey', marker='o')\n",
    "plt.title('Rinde por Dueño', fontsize=14)\n",
    "plt.xlabel('Dueño', fontsize=14)\n",
    "plt.ylabel('Rinde', fontsize=14)\n",
    "plt.grid(True)\n",
    "plt.show()"
   ]
  },
  {
   "cell_type": "code",
   "execution_count": null,
   "id": "0cc7122c",
   "metadata": {},
   "outputs": [],
   "source": []
  }
 ],
 "metadata": {
  "kernelspec": {
   "display_name": "Python 3 (ipykernel)",
   "language": "python",
   "name": "python3"
  },
  "language_info": {
   "codemirror_mode": {
    "name": "ipython",
    "version": 3
   },
   "file_extension": ".py",
   "mimetype": "text/x-python",
   "name": "python",
   "nbconvert_exporter": "python",
   "pygments_lexer": "ipython3",
   "version": "3.9.12"
  }
 },
 "nbformat": 4,
 "nbformat_minor": 5
}
